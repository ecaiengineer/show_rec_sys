{
 "cells": [
  {
   "cell_type": "code",
   "execution_count": null,
   "id": "aa3d7dec",
   "metadata": {},
   "outputs": [],
   "source": [
    "from inference import LSTMRecommender"
   ]
  },
  {
   "cell_type": "code",
   "execution_count": null,
   "id": "ea61b336",
   "metadata": {},
   "outputs": [],
   "source": [
    "CHECK_POINT_FILE = 'artifacts/lstm_2.pth'"
   ]
  },
  {
   "cell_type": "code",
   "execution_count": null,
   "id": "5c18140d",
   "metadata": {},
   "outputs": [],
   "source": [
    "recommender = LSTMRecommender(\n",
    "    check_point_file=CHECK_POINT_FILE\n",
    ")"
   ]
  },
  {
   "cell_type": "code",
   "execution_count": null,
   "id": "1baf6aa6",
   "metadata": {},
   "outputs": [],
   "source": [
    "user_id = 8319\n",
    "ranked_shows = recommender.predict_shows(user_id=user_id)\n",
    "print(f\"first 10 ranked shows for user {user_id}: {ranked_shows[:10]}\")"
   ]
  }
 ],
 "metadata": {
  "kernelspec": {
   "display_name": ".venv",
   "language": "python",
   "name": "python3"
  },
  "language_info": {
   "codemirror_mode": {
    "name": "ipython",
    "version": 3
   },
   "file_extension": ".py",
   "mimetype": "text/x-python",
   "name": "python",
   "nbconvert_exporter": "python",
   "pygments_lexer": "ipython3",
   "version": "3.12.4"
  }
 },
 "nbformat": 4,
 "nbformat_minor": 5
}
