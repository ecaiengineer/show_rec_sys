{
 "cells": [
  {
   "cell_type": "code",
   "execution_count": 1,
   "id": "aa3d7dec",
   "metadata": {},
   "outputs": [],
   "source": [
    "from inference import LSTMRecommender"
   ]
  },
  {
   "cell_type": "code",
   "execution_count": 2,
   "id": "ea61b336",
   "metadata": {},
   "outputs": [],
   "source": [
    "CHECK_POINT_FILE = 'artifacts/lstm_2.pth'"
   ]
  },
  {
   "cell_type": "code",
   "execution_count": 3,
   "id": "5c18140d",
   "metadata": {},
   "outputs": [
    {
     "name": "stderr",
     "output_type": "stream",
     "text": [
      "/Users/ananddeshmukh/Documents/GitHub/show_rec_sys/inference.py:35: FutureWarning: You are using `torch.load` with `weights_only=False` (the current default value), which uses the default pickle module implicitly. It is possible to construct malicious pickle data which will execute arbitrary code during unpickling (See https://github.com/pytorch/pytorch/blob/main/SECURITY.md#untrusted-models for more details). In a future release, the default value for `weights_only` will be flipped to `True`. This limits the functions that could be executed during unpickling. Arbitrary objects will no longer be allowed to be loaded via this mode unless they are explicitly allowlisted by the user via `torch.serialization.add_safe_globals`. We recommend you start setting `weights_only=True` for any use case where you don't have full control of the loaded file. Please open an issue on GitHub for any issues related to this experimental feature.\n",
      "  self._checkpoint = torch.load(check_point_file)\n"
     ]
    }
   ],
   "source": [
    "recommender = LSTMRecommender(\n",
    "    check_point_file=CHECK_POINT_FILE\n",
    ")"
   ]
  },
  {
   "cell_type": "code",
   "execution_count": 4,
   "id": "1baf6aa6",
   "metadata": {},
   "outputs": [
    {
     "name": "stdout",
     "output_type": "stream",
     "text": [
      "first 10 ranked shows for user 8319: [48, 196, 698, 690, 876, 222, 1157, 49, 268, 1376]\n"
     ]
    }
   ],
   "source": [
    "user_id = 8319\n",
    "ranked_shows = recommender.predict_shows(user_id=user_id)\n",
    "print(f\"first 10 ranked shows for user {user_id}: {ranked_shows[:10]}\")"
   ]
  }
 ],
 "metadata": {
  "kernelspec": {
   "display_name": ".venv",
   "language": "python",
   "name": "python3"
  },
  "language_info": {
   "codemirror_mode": {
    "name": "ipython",
    "version": 3
   },
   "file_extension": ".py",
   "mimetype": "text/x-python",
   "name": "python",
   "nbconvert_exporter": "python",
   "pygments_lexer": "ipython3",
   "version": "3.12.4"
  }
 },
 "nbformat": 4,
 "nbformat_minor": 5
}
